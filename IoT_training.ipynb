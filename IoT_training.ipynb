{
 "cells": [
  {
   "cell_type": "code",
   "execution_count": 1,
   "metadata": {},
   "outputs": [],
   "source": [
    "import pandas as pd\n",
    "import torch\n",
    "import torch.nn as nn\n",
    "import numpy as np\n",
    "from sklearn.model_selection import train_test_split\n",
    "from Models import Model, ClassificationModel\n",
    "device = 'cuda' if torch.cuda.is_available() else 'cpu'"
   ]
  },
  {
   "cell_type": "code",
   "execution_count": 2,
   "metadata": {},
   "outputs": [
    {
     "data": {
      "text/html": [
       "<div>\n",
       "<style scoped>\n",
       "    .dataframe tbody tr th:only-of-type {\n",
       "        vertical-align: middle;\n",
       "    }\n",
       "\n",
       "    .dataframe tbody tr th {\n",
       "        vertical-align: top;\n",
       "    }\n",
       "\n",
       "    .dataframe thead th {\n",
       "        text-align: right;\n",
       "    }\n",
       "</style>\n",
       "<table border=\"1\" class=\"dataframe\">\n",
       "  <thead>\n",
       "    <tr style=\"text-align: right;\">\n",
       "      <th></th>\n",
       "      <th>date</th>\n",
       "      <th>tempreature</th>\n",
       "      <th>humidity</th>\n",
       "      <th>water_level</th>\n",
       "      <th>N</th>\n",
       "      <th>P</th>\n",
       "      <th>K</th>\n",
       "      <th>Fan_actuator_ON</th>\n",
       "      <th>Watering_plant_pump_ON</th>\n",
       "      <th>Water_pump_actuator_ON</th>\n",
       "    </tr>\n",
       "  </thead>\n",
       "  <tbody>\n",
       "    <tr>\n",
       "      <th>0</th>\n",
       "      <td>2024-02-08 06:10:00</td>\n",
       "      <td>41</td>\n",
       "      <td>63</td>\n",
       "      <td>100</td>\n",
       "      <td>255</td>\n",
       "      <td>255</td>\n",
       "      <td>255</td>\n",
       "      <td>True</td>\n",
       "      <td>False</td>\n",
       "      <td>False</td>\n",
       "    </tr>\n",
       "    <tr>\n",
       "      <th>1</th>\n",
       "      <td>2024-02-08 06:15:00</td>\n",
       "      <td>41</td>\n",
       "      <td>59</td>\n",
       "      <td>100</td>\n",
       "      <td>255</td>\n",
       "      <td>255</td>\n",
       "      <td>255</td>\n",
       "      <td>True</td>\n",
       "      <td>False</td>\n",
       "      <td>False</td>\n",
       "    </tr>\n",
       "    <tr>\n",
       "      <th>2</th>\n",
       "      <td>2024-02-08 06:20:00</td>\n",
       "      <td>41</td>\n",
       "      <td>62</td>\n",
       "      <td>100</td>\n",
       "      <td>255</td>\n",
       "      <td>255</td>\n",
       "      <td>255</td>\n",
       "      <td>True</td>\n",
       "      <td>False</td>\n",
       "      <td>False</td>\n",
       "    </tr>\n",
       "    <tr>\n",
       "      <th>3</th>\n",
       "      <td>2024-02-08 06:05:00</td>\n",
       "      <td>40</td>\n",
       "      <td>60</td>\n",
       "      <td>100</td>\n",
       "      <td>255</td>\n",
       "      <td>255</td>\n",
       "      <td>255</td>\n",
       "      <td>True</td>\n",
       "      <td>False</td>\n",
       "      <td>False</td>\n",
       "    </tr>\n",
       "    <tr>\n",
       "      <th>4</th>\n",
       "      <td>2024-02-08 06:00:00</td>\n",
       "      <td>39</td>\n",
       "      <td>61</td>\n",
       "      <td>100</td>\n",
       "      <td>255</td>\n",
       "      <td>255</td>\n",
       "      <td>255</td>\n",
       "      <td>True</td>\n",
       "      <td>False</td>\n",
       "      <td>False</td>\n",
       "    </tr>\n",
       "  </tbody>\n",
       "</table>\n",
       "</div>"
      ],
      "text/plain": [
       "                 date  tempreature  humidity  water_level    N    P    K  \\\n",
       "0 2024-02-08 06:10:00           41        63          100  255  255  255   \n",
       "1 2024-02-08 06:15:00           41        59          100  255  255  255   \n",
       "2 2024-02-08 06:20:00           41        62          100  255  255  255   \n",
       "3 2024-02-08 06:05:00           40        60          100  255  255  255   \n",
       "4 2024-02-08 06:00:00           39        61          100  255  255  255   \n",
       "\n",
       "   Fan_actuator_ON  Watering_plant_pump_ON  Water_pump_actuator_ON  \n",
       "0             True                   False                   False  \n",
       "1             True                   False                   False  \n",
       "2             True                   False                   False  \n",
       "3             True                   False                   False  \n",
       "4             True                   False                   False  "
      ]
     },
     "execution_count": 2,
     "metadata": {},
     "output_type": "execute_result"
    }
   ],
   "source": [
    "df = pd.read_csv(\"IoT/IoTProcessed_Data.csv\")\n",
    "#Removing redundant columns\n",
    "redundant_columns = ['Fan_actuator_OFF', 'Watering_plant_pump_OFF', 'Water_pump_actuator_OFF']\n",
    "cleaned_df = df.drop(redundant_columns, axis=1)\n",
    "\n",
    "#Converting columns to boolean\n",
    "bool_columns = ['Fan_actuator_ON', 'Watering_plant_pump_ON', 'Water_pump_actuator_ON']\n",
    "cleaned_df[bool_columns] = cleaned_df[bool_columns].astype(bool)\n",
    "\n",
    "#Converting date column to date time data type\n",
    "cleaned_df['date'] = pd.to_datetime(cleaned_df['date'])\n",
    "#Extracting month and time from date and drop date column\n",
    "\n",
    "cleaned_df.head()"
   ]
  },
  {
   "cell_type": "code",
   "execution_count": 3,
   "metadata": {},
   "outputs": [],
   "source": [
    "temp_df = cleaned_df.drop(columns=['date'], axis=1)"
   ]
  },
  {
   "cell_type": "code",
   "execution_count": 4,
   "metadata": {},
   "outputs": [],
   "source": [
    "targets = ['Fan_actuator_ON', 'Watering_plant_pump_ON', 'Water_pump_actuator_ON']\n",
    "train, test = train_test_split(temp_df, train_size=0.75)"
   ]
  },
  {
   "cell_type": "code",
   "execution_count": 5,
   "metadata": {},
   "outputs": [
    {
     "name": "stdout",
     "output_type": "stream",
     "text": [
      "Using cpu\n"
     ]
    }
   ],
   "source": [
    "model = Model(train, targets, model=ClassificationModel, batch_size=128)"
   ]
  },
  {
   "cell_type": "code",
   "execution_count": 6,
   "metadata": {},
   "outputs": [
    {
     "name": "stdout",
     "output_type": "stream",
     "text": [
      "Epoch 01/100 · train BCELoss = 0.2409\n",
      "Epoch 11/100 · train BCELoss = 0.0122\n",
      "Epoch 21/100 · train BCELoss = 0.0102\n",
      "Epoch 31/100 · train BCELoss = 0.0090\n",
      "Epoch 41/100 · train BCELoss = 0.0083\n",
      "Epoch 51/100 · train BCELoss = 0.0077\n",
      "Epoch 61/100 · train BCELoss = 0.0073\n",
      "Epoch 71/100 · train BCELoss = 0.0070\n",
      "Epoch 81/100 · train BCELoss = 0.0067\n",
      "Epoch 91/100 · train BCELoss = 0.0064\n"
     ]
    }
   ],
   "source": [
    "model.train(epochs=100)"
   ]
  },
  {
   "cell_type": "code",
   "execution_count": 7,
   "metadata": {},
   "outputs": [
    {
     "name": "stdout",
     "output_type": "stream",
     "text": [
      "BCELoss: 0.0061\n",
      "Accuracy: 0.9977\n"
     ]
    }
   ],
   "source": [
    "x_test_df = test.drop(columns=targets, axis=1)\n",
    "y_test_tensor = torch.from_numpy(test[targets].values.astype(np.float32))\n",
    "model.eval(x_test_df, y_test_tensor, nn.BCELoss())"
   ]
  },
  {
   "cell_type": "code",
   "execution_count": null,
   "metadata": {},
   "outputs": [],
   "source": []
  },
  {
   "cell_type": "code",
   "execution_count": null,
   "metadata": {},
   "outputs": [],
   "source": []
  }
 ],
 "metadata": {
  "kernelspec": {
   "display_name": "torch",
   "language": "python",
   "name": "python3"
  },
  "language_info": {
   "codemirror_mode": {
    "name": "ipython",
    "version": 3
   },
   "file_extension": ".py",
   "mimetype": "text/x-python",
   "name": "python",
   "nbconvert_exporter": "python",
   "pygments_lexer": "ipython3",
   "version": "3.12.9"
  }
 },
 "nbformat": 4,
 "nbformat_minor": 2
}
