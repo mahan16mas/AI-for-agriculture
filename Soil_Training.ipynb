{
 "cells": [
  {
   "cell_type": "code",
   "execution_count": 1,
   "metadata": {},
   "outputs": [],
   "source": [
    "import pandas as pd\n",
    "import torch\n",
    "import torch.nn as nn\n",
    "import numpy as np\n",
    "from sklearn.model_selection import train_test_split\n",
    "from Models import Model, ContinousModel"
   ]
  },
  {
   "cell_type": "code",
   "execution_count": 2,
   "metadata": {},
   "outputs": [],
   "source": [
    "df = pd.read_csv(\"Soil/Soil Nutrients.csv\")"
   ]
  },
  {
   "cell_type": "code",
   "execution_count": 3,
   "metadata": {},
   "outputs": [],
   "source": [
    "targets = ['N_Ratio', 'P_Ratio', 'K_Ratio']\n",
    "train, test = train_test_split(df, train_size=0.75)"
   ]
  },
  {
   "cell_type": "code",
   "execution_count": 4,
   "metadata": {},
   "outputs": [
    {
     "name": "stdout",
     "output_type": "stream",
     "text": [
      "Using cuda\n"
     ]
    }
   ],
   "source": [
    "model = Model(train, targets, model=ContinousModel)"
   ]
  },
  {
   "cell_type": "code",
   "execution_count": 5,
   "metadata": {},
   "outputs": [
    {
     "name": "stdout",
     "output_type": "stream",
     "text": [
      "Epoch 01/100 · train MSELoss = 92.3901\n",
      "Epoch 11/100 · train MSELoss = 0.0648\n",
      "Epoch 21/100 · train MSELoss = 0.0170\n",
      "Epoch 31/100 · train MSELoss = 0.0062\n",
      "Epoch 41/100 · train MSELoss = 0.0035\n",
      "Epoch 51/100 · train MSELoss = 0.0028\n",
      "Epoch 61/100 · train MSELoss = 0.0036\n",
      "Epoch 71/100 · train MSELoss = 0.0040\n",
      "Epoch 81/100 · train MSELoss = 0.0063\n",
      "Epoch 91/100 · train MSELoss = 0.0021\n"
     ]
    }
   ],
   "source": [
    "model.train(epochs=100)"
   ]
  },
  {
   "cell_type": "code",
   "execution_count": 6,
   "metadata": {},
   "outputs": [
    {
     "name": "stdout",
     "output_type": "stream",
     "text": [
      "MSELoss: 0.0012\n",
      "L1Loss: 0.0259\n"
     ]
    }
   ],
   "source": [
    "x_test_df = test.drop(columns=targets, axis=1)\n",
    "y_test_tensor = torch.from_numpy(test[targets].values.astype(np.float32))\n",
    "model.eval(x_test_df, y_test_tensor, nn.MSELoss(), nn.L1Loss())"
   ]
  },
  {
   "cell_type": "code",
   "execution_count": null,
   "metadata": {},
   "outputs": [],
   "source": []
  }
 ],
 "metadata": {
  "kernelspec": {
   "display_name": "torch",
   "language": "python",
   "name": "python3"
  },
  "language_info": {
   "codemirror_mode": {
    "name": "ipython",
    "version": 3
   },
   "file_extension": ".py",
   "mimetype": "text/x-python",
   "name": "python",
   "nbconvert_exporter": "python",
   "pygments_lexer": "ipython3",
   "version": "3.12.9"
  }
 },
 "nbformat": 4,
 "nbformat_minor": 2
}
